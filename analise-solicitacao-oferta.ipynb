{
 "cells": [
  {
   "cell_type": "markdown",
   "id": "a5dec40f",
   "metadata": {},
   "source": [
    "## Libraries"
   ]
  },
  {
   "cell_type": "code",
   "execution_count": 196,
   "id": "3303ecdb",
   "metadata": {},
   "outputs": [],
   "source": [
    "import seaborn as sns\n",
    "import pandas as pd\n",
    "from tqdm import tqdm\n",
    "import matplotlib.pyplot as plt\n",
    "from collections import namedtuple\n",
    "from datetime import datetime, timedelta"
   ]
  },
  {
   "cell_type": "markdown",
   "id": "af128443",
   "metadata": {},
   "source": [
    "## Data ingestion"
   ]
  },
  {
   "cell_type": "code",
   "execution_count": 161,
   "id": "1b8fba3d",
   "metadata": {},
   "outputs": [],
   "source": [
    "df = pd.read_csv('dados/bq-results-20220905-234833-1662430745875.csv', parse_dates=['DS_BR'])\n",
    "df = df.sort_values(by='DS_BR', ascending=True)"
   ]
  },
  {
   "cell_type": "markdown",
   "id": "5bac8da5",
   "metadata": {},
   "source": [
    "## Datetime to Date"
   ]
  },
  {
   "cell_type": "code",
   "execution_count": 162,
   "id": "d5503aac",
   "metadata": {},
   "outputs": [],
   "source": [
    "df['dt_date'] = df['DS_BR'].dt.date"
   ]
  },
  {
   "cell_type": "markdown",
   "id": "f90869fa",
   "metadata": {},
   "source": [
    "## Maior quantidade de overlaps entre horários de solicitação de viagem em uma janela de 30 minutos"
   ]
  },
  {
   "cell_type": "raw",
   "id": "15c1f422",
   "metadata": {},
   "source": [
    "# Solution description\n",
    "\n",
    "|-------|\n",
    "r1.start r1.end\n",
    "   |-------|\n",
    " r2.start  r2.end\n",
    "\n",
    "\n",
    "latest_start =>  r2.start\n",
    "earliest_end => r1.end\n",
    "\n",
    "(r1.end-r2.start)"
   ]
  },
  {
   "cell_type": "code",
   "execution_count": 163,
   "id": "ff0cf7f3",
   "metadata": {},
   "outputs": [],
   "source": [
    "window_in_minutes = 30\n",
    "\n",
    "df['dt_end'] = df['DS_BR'] + timedelta(minutes=window_in_minutes)"
   ]
  },
  {
   "cell_type": "code",
   "execution_count": 164,
   "id": "7428be78",
   "metadata": {
    "scrolled": false
   },
   "outputs": [
    {
     "name": "stderr",
     "output_type": "stream",
     "text": [
      "444626it [2:48:17, 44.03it/s]"
     ]
    },
    {
     "name": "stdout",
     "output_type": "stream",
     "text": [
      "CPU times: total: 2h 48min 17s\n",
      "Wall time: 2h 48min 17s\n"
     ]
    },
    {
     "name": "stderr",
     "output_type": "stream",
     "text": [
      "\n"
     ]
    }
   ],
   "source": [
    "%%time\n",
    "\n",
    "Range = namedtuple('Range', ['start', 'end'])\n",
    "\n",
    "lst_overlaps = []\n",
    "for _, row1 in tqdm(df.iterrows()):\n",
    "    r1 = Range(start=row1['DS_BR'], end=row1['dt_end'])\n",
    "    qtd_overlap = 0\n",
    "    \n",
    "    for _, row2 in df[r1.start.date() == df['dt_date']].iloc[:].iterrows():\n",
    "        r2 = Range(start=row2['DS_BR'], end=row2['dt_end'])\n",
    "        \n",
    "        #if r1.start.date() == r2.start.date(): \n",
    "        latest_start = max(r1.start, r2.start)\n",
    "        earliest_end = min(r1.end, r2.end)\n",
    "        delta = (earliest_end - latest_start).days + 1\n",
    "        overlap = max(0, delta)\n",
    "        \n",
    "        if overlap > 0:\n",
    "            qtd_overlap += 1\n",
    "        else: break\n",
    "        \n",
    "        \n",
    "        #print(r1.start, r2.start, 1 if overlap > 0 else 0)\n",
    "        \n",
    "    lst_overlaps.append(qtd_overlap)"
   ]
  },
  {
   "cell_type": "code",
   "execution_count": 165,
   "id": "e44b3d91",
   "metadata": {},
   "outputs": [],
   "source": [
    "df = pd.concat([df, pd.DataFrame(lst_overlaps, columns=['qtd_overlaps'])], axis=1)#.head()\n",
    "df = df.sort_values(by='qtd_overlaps', ascending=False)"
   ]
  },
  {
   "cell_type": "code",
   "execution_count": 170,
   "id": "732f4761",
   "metadata": {},
   "outputs": [],
   "source": [
    "df.to_csv('results/overlaps.csv')"
   ]
  },
  {
   "cell_type": "code",
   "execution_count": 166,
   "id": "564f6849",
   "metadata": {},
   "outputs": [
    {
     "name": "stdout",
     "output_type": "stream",
     "text": [
      "A maior quantidade de overlaps é de 257 solicitações de viagem.\n"
     ]
    }
   ],
   "source": [
    "print(f'A maior quantidade de overlaps é de {df[\"qtd_overlaps\"].max()} solicitações de viagem.')"
   ]
  },
  {
   "cell_type": "code",
   "execution_count": 187,
   "id": "052f4a30",
   "metadata": {},
   "outputs": [],
   "source": [
    "## "
   ]
  },
  {
   "cell_type": "code",
   "execution_count": 200,
   "id": "8e7ca325",
   "metadata": {},
   "outputs": [
    {
     "data": {
      "image/png": "[encoded data removed]",
      "text/plain": [
       "<Figure size 1008x432 with 2 Axes>"
      ]
     },
     "metadata": {
      "needs_background": "light"
     },
     "output_type": "display_data"
    }
   ],
   "source": [
    "fig, (ax1, ax2) = plt.subplots(1,2, figsize=(14,6), sharey=True)\n",
    "\n",
    "sns.boxplot(data=df, x='qtd_overlaps', ax=ax1);\n",
    "sns.boxplot(data=df[(df[\"qtd_overlaps\"]>0)&(df[\"qtd_overlaps\"]<150)], x='qtd_overlaps', ax=ax2);\n",
    "\n",
    "title1 = f'Qtd de solicitações de viagens em uma janela de {window_in_minutes} min'\n",
    "title2 = f'Qtd de solicitações de viagens em uma janela de {window_in_minutes} min (sem zeros e outliers)'\n",
    "\n",
    "ax1.set_title(title1)\n",
    "ax2.set_title(title2);\n",
    "\n",
    "plt.show();"
   ]
  },
  {
   "cell_type": "code",
   "execution_count": 206,
   "id": "21e96f08",
   "metadata": {},
   "outputs": [
    {
     "name": "stdout",
     "output_type": "stream",
     "text": [
      "Quando há solicitações de viagens em uma janela de 30 minutos a quantidade média é de 6.0 solicitações.\n"
     ]
    }
   ],
   "source": [
    "print(f'Quando há solicitações de viagens em uma janela de {window_in_minutes} minutos a quantidade média é de {df[df[\"qtd_overlaps\"]>0][\"qtd_overlaps\"].median()} solicitações.')"
   ]
  }
 ],
 "metadata": {
  "kernelspec": {
   "display_name": "Python 3 (ipykernel)",
   "language": "python",
   "name": "python3"
  },
  "language_info": {
   "codemirror_mode": {
    "name": "ipython",
    "version": 3
   },
   "file_extension": ".py",
   "mimetype": "text/x-python",
   "name": "python",
   "nbconvert_exporter": "python",
   "pygments_lexer": "ipython3",
   "version": "3.10.4"
  }
 },
 "nbformat": 4,
 "nbformat_minor": 5
}
