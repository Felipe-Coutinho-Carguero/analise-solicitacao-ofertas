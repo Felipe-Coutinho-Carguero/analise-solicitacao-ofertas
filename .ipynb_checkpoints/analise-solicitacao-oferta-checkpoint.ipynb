{
 "cells": [
  {
   "cell_type": "markdown",
   "id": "d035cc9a",
   "metadata": {},
   "source": [
    "## Libraries"
   ]
  },
  {
   "cell_type": "code",
   "execution_count": 160,
   "id": "f93a207a",
   "metadata": {},
   "outputs": [],
   "source": [
    "import pandas as pd\n",
    "from tqdm import tqdm\n",
    "from datetime import datetime, timedelta\n",
    "from collections import namedtuple"
   ]
  },
  {
   "cell_type": "markdown",
   "id": "82c198c8",
   "metadata": {},
   "source": [
    "## Data ingestion"
   ]
  },
  {
   "cell_type": "code",
   "execution_count": 161,
   "id": "546423f0",
   "metadata": {},
   "outputs": [],
   "source": [
    "df = pd.read_csv('dados/bq-results-20220905-234833-1662430745875.csv', parse_dates=['DS_BR'])\n",
    "df = df.sort_values(by='DS_BR', ascending=True)"
   ]
  },
  {
   "cell_type": "markdown",
   "id": "e185d34d",
   "metadata": {},
   "source": [
    "## Datetime to Date"
   ]
  },
  {
   "cell_type": "code",
   "execution_count": 162,
   "id": "5ecedf76",
   "metadata": {},
   "outputs": [],
   "source": [
    "df['dt_date'] = df['DS_BR'].dt.date"
   ]
  },
  {
   "cell_type": "markdown",
   "id": "e1e78dbd",
   "metadata": {},
   "source": [
    "## Maior quantidade de overlaps entre horários de solicitação de viagem em uma janela de 30 minutos"
   ]
  },
  {
   "cell_type": "raw",
   "id": "81ad5a95",
   "metadata": {},
   "source": [
    "# Solution description\n",
    "\n",
    "|-------|\n",
    "r1.start r1.end\n",
    "   |-------|\n",
    " r2.start  r2.end\n",
    "\n",
    "\n",
    "latest_start =>  r2.start\n",
    "earliest_end => r1.end\n",
    "\n",
    "(r1.end-r2.start)"
   ]
  },
  {
   "cell_type": "code",
   "execution_count": 163,
   "id": "9109e1f2",
   "metadata": {},
   "outputs": [],
   "source": [
    "window_in_minutes = 30\n",
    "\n",
    "df['dt_end'] = df['DS_BR'] + timedelta(minutes=window_in_minutes)"
   ]
  },
  {
   "cell_type": "code",
   "execution_count": 164,
   "id": "5078c7f1",
   "metadata": {
    "scrolled": false
   },
   "outputs": [
    {
     "name": "stderr",
     "output_type": "stream",
     "text": [
      "444626it [2:48:17, 44.03it/s]"
     ]
    },
    {
     "name": "stdout",
     "output_type": "stream",
     "text": [
      "CPU times: total: 2h 48min 17s\n",
      "Wall time: 2h 48min 17s\n"
     ]
    },
    {
     "name": "stderr",
     "output_type": "stream",
     "text": [
      "\n"
     ]
    }
   ],
   "source": [
    "%%time\n",
    "\n",
    "Range = namedtuple('Range', ['start', 'end'])\n",
    "\n",
    "lst_overlaps = []\n",
    "for _, row1 in tqdm(df.iterrows()):\n",
    "    r1 = Range(start=row1['DS_BR'], end=row1['dt_end'])\n",
    "    qtd_overlap = 0\n",
    "    \n",
    "    for _, row2 in df[r1.start.date() == df['dt_date']].iloc[:].iterrows():\n",
    "        r2 = Range(start=row2['DS_BR'], end=row2['dt_end'])\n",
    "        \n",
    "        #if r1.start.date() == r2.start.date(): \n",
    "        latest_start = max(r1.start, r2.start)\n",
    "        earliest_end = min(r1.end, r2.end)\n",
    "        delta = (earliest_end - latest_start).days + 1\n",
    "        overlap = max(0, delta)\n",
    "        \n",
    "        if overlap > 0:\n",
    "            qtd_overlap += 1\n",
    "        else: break\n",
    "        \n",
    "        \n",
    "        #print(r1.start, r2.start, 1 if overlap > 0 else 0)\n",
    "        \n",
    "    lst_overlaps.append(qtd_overlap)"
   ]
  },
  {
   "cell_type": "code",
   "execution_count": 165,
   "id": "dd00d841",
   "metadata": {},
   "outputs": [],
   "source": [
    "df = pd.concat([df, pd.DataFrame(lst_overlaps, columns=['qtd_overlaps'])], axis=1)#.head()\n",
    "df = df.sort_values(by='qtd_overlaps', ascending=False)"
   ]
  },
  {
   "cell_type": "code",
   "execution_count": 166,
   "id": "4ed26155",
   "metadata": {},
   "outputs": [
    {
     "name": "stdout",
     "output_type": "stream",
     "text": [
      "A maior quantidade de overlaps é de 257 solicitações de viagem.\n"
     ]
    }
   ],
   "source": [
    "print(f'A maior quantidade de overlaps é de {df[\"qtd_overlaps\"].max()} solicitações de viagem.')"
   ]
  }
 ],
 "metadata": {
  "kernelspec": {
   "display_name": "Python 3 (ipykernel)",
   "language": "python",
   "name": "python3"
  },
  "language_info": {
   "codemirror_mode": {
    "name": "ipython",
    "version": 3
   },
   "file_extension": ".py",
   "mimetype": "text/x-python",
   "name": "python",
   "nbconvert_exporter": "python",
   "pygments_lexer": "ipython3",
   "version": "3.10.4"
  }
 },
 "nbformat": 4,
 "nbformat_minor": 5
}
